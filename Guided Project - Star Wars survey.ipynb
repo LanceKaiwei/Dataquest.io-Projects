{
 "cells": [
  {
   "cell_type": "code",
   "execution_count": 1,
   "metadata": {
    "collapsed": true
   },
   "outputs": [],
   "source": [
    "import pandas as pd\n",
    "star_wars = pd.read_csv(\"star_wars.csv\", encoding=\"ISO-8859-1\")"
   ]
  },
  {
   "cell_type": "code",
   "execution_count": 2,
   "metadata": {
    "collapsed": false
   },
   "outputs": [
    {
     "data": {
      "text/html": [
       "<div style=\"max-height:1000px;max-width:1500px;overflow:auto;\">\n",
       "<table border=\"1\" class=\"dataframe\">\n",
       "  <thead>\n",
       "    <tr style=\"text-align: right;\">\n",
       "      <th></th>\n",
       "      <th>RespondentID</th>\n",
       "      <th>Have you seen any of the 6 films in the Star Wars franchise?</th>\n",
       "      <th>Do you consider yourself to be a fan of the Star Wars film franchise?</th>\n",
       "      <th>Which of the following Star Wars films have you seen? Please select all that apply.</th>\n",
       "      <th>Unnamed: 4</th>\n",
       "      <th>Unnamed: 5</th>\n",
       "      <th>Unnamed: 6</th>\n",
       "      <th>Unnamed: 7</th>\n",
       "      <th>Unnamed: 8</th>\n",
       "      <th>Please rank the Star Wars films in order of preference with 1 being your favorite film in the franchise and 6 being your least favorite film.</th>\n",
       "      <th>...</th>\n",
       "      <th>Unnamed: 28</th>\n",
       "      <th>Which character shot first?</th>\n",
       "      <th>Are you familiar with the Expanded Universe?</th>\n",
       "      <th>Do you consider yourself to be a fan of the Expanded Universe?ÂÃ¦</th>\n",
       "      <th>Do you consider yourself to be a fan of the Star Trek franchise?</th>\n",
       "      <th>Gender</th>\n",
       "      <th>Age</th>\n",
       "      <th>Household Income</th>\n",
       "      <th>Education</th>\n",
       "      <th>Location (Census Region)</th>\n",
       "    </tr>\n",
       "  </thead>\n",
       "  <tbody>\n",
       "    <tr>\n",
       "      <th>1</th>\n",
       "      <td> 3292879998</td>\n",
       "      <td> Yes</td>\n",
       "      <td> Yes</td>\n",
       "      <td> Star Wars: Episode I  The Phantom Menace</td>\n",
       "      <td> Star Wars: Episode II  Attack of the Clones</td>\n",
       "      <td> Star Wars: Episode III  Revenge of the Sith</td>\n",
       "      <td> Star Wars: Episode IV  A New Hope</td>\n",
       "      <td> Star Wars: Episode V The Empire Strikes Back</td>\n",
       "      <td> Star Wars: Episode VI Return of the Jedi</td>\n",
       "      <td>   3</td>\n",
       "      <td>...</td>\n",
       "      <td>     Very favorably</td>\n",
       "      <td> I don't understand this question</td>\n",
       "      <td> Yes</td>\n",
       "      <td>  No</td>\n",
       "      <td>  No</td>\n",
       "      <td> Male</td>\n",
       "      <td> 18-29</td>\n",
       "      <td>                 NaN</td>\n",
       "      <td>               High school degree</td>\n",
       "      <td>     South Atlantic</td>\n",
       "    </tr>\n",
       "    <tr>\n",
       "      <th>2</th>\n",
       "      <td> 3292879538</td>\n",
       "      <td>  No</td>\n",
       "      <td> NaN</td>\n",
       "      <td>                                      NaN</td>\n",
       "      <td>                                         NaN</td>\n",
       "      <td>                                         NaN</td>\n",
       "      <td>                               NaN</td>\n",
       "      <td>                                          NaN</td>\n",
       "      <td>                                      NaN</td>\n",
       "      <td> NaN</td>\n",
       "      <td>...</td>\n",
       "      <td>                NaN</td>\n",
       "      <td>                              NaN</td>\n",
       "      <td> NaN</td>\n",
       "      <td> NaN</td>\n",
       "      <td> Yes</td>\n",
       "      <td> Male</td>\n",
       "      <td> 18-29</td>\n",
       "      <td>        $0 - $24,999</td>\n",
       "      <td>                  Bachelor degree</td>\n",
       "      <td> West South Central</td>\n",
       "    </tr>\n",
       "    <tr>\n",
       "      <th>3</th>\n",
       "      <td> 3292765271</td>\n",
       "      <td> Yes</td>\n",
       "      <td>  No</td>\n",
       "      <td> Star Wars: Episode I  The Phantom Menace</td>\n",
       "      <td> Star Wars: Episode II  Attack of the Clones</td>\n",
       "      <td> Star Wars: Episode III  Revenge of the Sith</td>\n",
       "      <td>                               NaN</td>\n",
       "      <td>                                          NaN</td>\n",
       "      <td>                                      NaN</td>\n",
       "      <td>   1</td>\n",
       "      <td>...</td>\n",
       "      <td>   Unfamiliar (N/A)</td>\n",
       "      <td> I don't understand this question</td>\n",
       "      <td>  No</td>\n",
       "      <td> NaN</td>\n",
       "      <td>  No</td>\n",
       "      <td> Male</td>\n",
       "      <td> 18-29</td>\n",
       "      <td>        $0 - $24,999</td>\n",
       "      <td>               High school degree</td>\n",
       "      <td> West North Central</td>\n",
       "    </tr>\n",
       "    <tr>\n",
       "      <th>4</th>\n",
       "      <td> 3292763116</td>\n",
       "      <td> Yes</td>\n",
       "      <td> Yes</td>\n",
       "      <td> Star Wars: Episode I  The Phantom Menace</td>\n",
       "      <td> Star Wars: Episode II  Attack of the Clones</td>\n",
       "      <td> Star Wars: Episode III  Revenge of the Sith</td>\n",
       "      <td> Star Wars: Episode IV  A New Hope</td>\n",
       "      <td> Star Wars: Episode V The Empire Strikes Back</td>\n",
       "      <td> Star Wars: Episode VI Return of the Jedi</td>\n",
       "      <td>   5</td>\n",
       "      <td>...</td>\n",
       "      <td>     Very favorably</td>\n",
       "      <td> I don't understand this question</td>\n",
       "      <td>  No</td>\n",
       "      <td> NaN</td>\n",
       "      <td> Yes</td>\n",
       "      <td> Male</td>\n",
       "      <td> 18-29</td>\n",
       "      <td> $100,000 - $149,999</td>\n",
       "      <td> Some college or Associate degree</td>\n",
       "      <td> West North Central</td>\n",
       "    </tr>\n",
       "    <tr>\n",
       "      <th>5</th>\n",
       "      <td> 3292731220</td>\n",
       "      <td> Yes</td>\n",
       "      <td> Yes</td>\n",
       "      <td> Star Wars: Episode I  The Phantom Menace</td>\n",
       "      <td> Star Wars: Episode II  Attack of the Clones</td>\n",
       "      <td> Star Wars: Episode III  Revenge of the Sith</td>\n",
       "      <td> Star Wars: Episode IV  A New Hope</td>\n",
       "      <td> Star Wars: Episode V The Empire Strikes Back</td>\n",
       "      <td> Star Wars: Episode VI Return of the Jedi</td>\n",
       "      <td>   5</td>\n",
       "      <td>...</td>\n",
       "      <td> Somewhat favorably</td>\n",
       "      <td>                           Greedo</td>\n",
       "      <td> Yes</td>\n",
       "      <td>  No</td>\n",
       "      <td>  No</td>\n",
       "      <td> Male</td>\n",
       "      <td> 18-29</td>\n",
       "      <td> $100,000 - $149,999</td>\n",
       "      <td> Some college or Associate degree</td>\n",
       "      <td> West North Central</td>\n",
       "    </tr>\n",
       "  </tbody>\n",
       "</table>\n",
       "<p>5 rows × 38 columns</p>\n",
       "</div>"
      ],
      "text/plain": [
       "   RespondentID Have you seen any of the 6 films in the Star Wars franchise?  \\\n",
       "1    3292879998                                                Yes             \n",
       "2    3292879538                                                 No             \n",
       "3    3292765271                                                Yes             \n",
       "4    3292763116                                                Yes             \n",
       "5    3292731220                                                Yes             \n",
       "\n",
       "  Do you consider yourself to be a fan of the Star Wars film franchise?  \\\n",
       "1                                                Yes                      \n",
       "2                                                NaN                      \n",
       "3                                                 No                      \n",
       "4                                                Yes                      \n",
       "5                                                Yes                      \n",
       "\n",
       "  Which of the following Star Wars films have you seen? Please select all that apply.  \\\n",
       "1           Star Wars: Episode I  The Phantom Menace                                    \n",
       "2                                                NaN                                    \n",
       "3           Star Wars: Episode I  The Phantom Menace                                    \n",
       "4           Star Wars: Episode I  The Phantom Menace                                    \n",
       "5           Star Wars: Episode I  The Phantom Menace                                    \n",
       "\n",
       "                                    Unnamed: 4  \\\n",
       "1  Star Wars: Episode II  Attack of the Clones   \n",
       "2                                          NaN   \n",
       "3  Star Wars: Episode II  Attack of the Clones   \n",
       "4  Star Wars: Episode II  Attack of the Clones   \n",
       "5  Star Wars: Episode II  Attack of the Clones   \n",
       "\n",
       "                                    Unnamed: 5  \\\n",
       "1  Star Wars: Episode III  Revenge of the Sith   \n",
       "2                                          NaN   \n",
       "3  Star Wars: Episode III  Revenge of the Sith   \n",
       "4  Star Wars: Episode III  Revenge of the Sith   \n",
       "5  Star Wars: Episode III  Revenge of the Sith   \n",
       "\n",
       "                          Unnamed: 6  \\\n",
       "1  Star Wars: Episode IV  A New Hope   \n",
       "2                                NaN   \n",
       "3                                NaN   \n",
       "4  Star Wars: Episode IV  A New Hope   \n",
       "5  Star Wars: Episode IV  A New Hope   \n",
       "\n",
       "                                     Unnamed: 7  \\\n",
       "1  Star Wars: Episode V The Empire Strikes Back   \n",
       "2                                           NaN   \n",
       "3                                           NaN   \n",
       "4  Star Wars: Episode V The Empire Strikes Back   \n",
       "5  Star Wars: Episode V The Empire Strikes Back   \n",
       "\n",
       "                                 Unnamed: 8  \\\n",
       "1  Star Wars: Episode VI Return of the Jedi   \n",
       "2                                       NaN   \n",
       "3                                       NaN   \n",
       "4  Star Wars: Episode VI Return of the Jedi   \n",
       "5  Star Wars: Episode VI Return of the Jedi   \n",
       "\n",
       "  Please rank the Star Wars films in order of preference with 1 being your favorite film in the franchise and 6 being your least favorite film.  \\\n",
       "1                                                  3                                                                                              \n",
       "2                                                NaN                                                                                              \n",
       "3                                                  1                                                                                              \n",
       "4                                                  5                                                                                              \n",
       "5                                                  5                                                                                              \n",
       "\n",
       "            ...                    Unnamed: 28  \\\n",
       "1           ...                 Very favorably   \n",
       "2           ...                            NaN   \n",
       "3           ...               Unfamiliar (N/A)   \n",
       "4           ...                 Very favorably   \n",
       "5           ...             Somewhat favorably   \n",
       "\n",
       "        Which character shot first?  \\\n",
       "1  I don't understand this question   \n",
       "2                               NaN   \n",
       "3  I don't understand this question   \n",
       "4  I don't understand this question   \n",
       "5                            Greedo   \n",
       "\n",
       "  Are you familiar with the Expanded Universe?  \\\n",
       "1                                          Yes   \n",
       "2                                          NaN   \n",
       "3                                           No   \n",
       "4                                           No   \n",
       "5                                          Yes   \n",
       "\n",
       "  Do you consider yourself to be a fan of the Expanded Universe?ÂÃ¦  \\\n",
       "1                                                 No                   \n",
       "2                                                NaN                   \n",
       "3                                                NaN                   \n",
       "4                                                NaN                   \n",
       "5                                                 No                   \n",
       "\n",
       "  Do you consider yourself to be a fan of the Star Trek franchise? Gender  \\\n",
       "1                                                 No                 Male   \n",
       "2                                                Yes                 Male   \n",
       "3                                                 No                 Male   \n",
       "4                                                Yes                 Male   \n",
       "5                                                 No                 Male   \n",
       "\n",
       "     Age     Household Income                         Education  \\\n",
       "1  18-29                  NaN                High school degree   \n",
       "2  18-29         $0 - $24,999                   Bachelor degree   \n",
       "3  18-29         $0 - $24,999                High school degree   \n",
       "4  18-29  $100,000 - $149,999  Some college or Associate degree   \n",
       "5  18-29  $100,000 - $149,999  Some college or Associate degree   \n",
       "\n",
       "  Location (Census Region)  \n",
       "1           South Atlantic  \n",
       "2       West South Central  \n",
       "3       West North Central  \n",
       "4       West North Central  \n",
       "5       West North Central  \n",
       "\n",
       "[5 rows x 38 columns]"
      ]
     },
     "execution_count": 2,
     "metadata": {},
     "output_type": "execute_result"
    }
   ],
   "source": [
    "a = pd.notnull(star_wars[\"RespondentID\"])\n",
    "star_wars = star_wars[a==True]\n",
    "star_wars.head()"
   ]
  },
  {
   "cell_type": "code",
   "execution_count": 3,
   "metadata": {
    "collapsed": false,
    "scrolled": true
   },
   "outputs": [],
   "source": [
    "yes_no = {\"Yes\": True, \"No\": False}"
   ]
  },
  {
   "cell_type": "code",
   "execution_count": 4,
   "metadata": {
    "collapsed": false
   },
   "outputs": [],
   "source": [
    "star_wars[\"Have you seen any of the 6 films in the Star Wars franchise?\"] = star_wars[\"Have you seen any of the 6 films in the Star Wars franchise?\"].map(yes_no) "
   ]
  },
  {
   "cell_type": "code",
   "execution_count": 5,
   "metadata": {
    "collapsed": false
   },
   "outputs": [],
   "source": [
    "star_wars[\"Do you consider yourself to be a fan of the Star Wars film franchise?\"] = star_wars[\"Do you consider yourself to be a fan of the Star Wars film franchise?\"].map(yes_no)"
   ]
  },
  {
   "cell_type": "code",
   "execution_count": 6,
   "metadata": {
    "collapsed": false
   },
   "outputs": [],
   "source": [
    "import numpy as np\n",
    "movie_mapping = {\n",
    "    \"Star Wars: Episode I  The Phantom Menace\": True,\n",
    "    np.nan: False,\n",
    "    \"Star Wars: Episode II  Attack of the Clones\": True,\n",
    "    \"Star Wars: Episode III  Revenge of the Sith\": True,\n",
    "    \"Star Wars: Episode IV  A New Hope\": True,\n",
    "    \"Star Wars: Episode V The Empire Strikes Back\": True,\n",
    "    \"Star Wars: Episode VI Return of the Jedi\": True\n",
    "}\n",
    "\n",
    "for col in star_wars.columns[3:9]:\n",
    "    star_wars[col] = star_wars[col].map(movie_mapping)\n"
   ]
  },
  {
   "cell_type": "code",
   "execution_count": 7,
   "metadata": {
    "collapsed": false
   },
   "outputs": [
    {
     "data": {
      "text/html": [
       "<div style=\"max-height:1000px;max-width:1500px;overflow:auto;\">\n",
       "<table border=\"1\" class=\"dataframe\">\n",
       "  <thead>\n",
       "    <tr style=\"text-align: right;\">\n",
       "      <th></th>\n",
       "      <th>RespondentID</th>\n",
       "      <th>Have you seen any of the 6 films in the Star Wars franchise?</th>\n",
       "      <th>Do you consider yourself to be a fan of the Star Wars film franchise?</th>\n",
       "      <th>seen_1</th>\n",
       "      <th>seen_2</th>\n",
       "      <th>seen_3</th>\n",
       "      <th>seen_4</th>\n",
       "      <th>seen_5</th>\n",
       "      <th>seen_6</th>\n",
       "      <th>Please rank the Star Wars films in order of preference with 1 being your favorite film in the franchise and 6 being your least favorite film.</th>\n",
       "      <th>...</th>\n",
       "      <th>Unnamed: 28</th>\n",
       "      <th>Which character shot first?</th>\n",
       "      <th>Are you familiar with the Expanded Universe?</th>\n",
       "      <th>Do you consider yourself to be a fan of the Expanded Universe?ÂÃ¦</th>\n",
       "      <th>Do you consider yourself to be a fan of the Star Trek franchise?</th>\n",
       "      <th>Gender</th>\n",
       "      <th>Age</th>\n",
       "      <th>Household Income</th>\n",
       "      <th>Education</th>\n",
       "      <th>Location (Census Region)</th>\n",
       "    </tr>\n",
       "  </thead>\n",
       "  <tbody>\n",
       "    <tr>\n",
       "      <th>1</th>\n",
       "      <td> 3292879998</td>\n",
       "      <td>  True</td>\n",
       "      <td>  True</td>\n",
       "      <td>  True</td>\n",
       "      <td>  True</td>\n",
       "      <td>  True</td>\n",
       "      <td>  True</td>\n",
       "      <td>  True</td>\n",
       "      <td>  True</td>\n",
       "      <td>   3</td>\n",
       "      <td>...</td>\n",
       "      <td>     Very favorably</td>\n",
       "      <td> I don't understand this question</td>\n",
       "      <td> Yes</td>\n",
       "      <td>  No</td>\n",
       "      <td>  No</td>\n",
       "      <td> Male</td>\n",
       "      <td> 18-29</td>\n",
       "      <td>                 NaN</td>\n",
       "      <td>               High school degree</td>\n",
       "      <td>     South Atlantic</td>\n",
       "    </tr>\n",
       "    <tr>\n",
       "      <th>2</th>\n",
       "      <td> 3292879538</td>\n",
       "      <td> False</td>\n",
       "      <td>   NaN</td>\n",
       "      <td> False</td>\n",
       "      <td> False</td>\n",
       "      <td> False</td>\n",
       "      <td> False</td>\n",
       "      <td> False</td>\n",
       "      <td> False</td>\n",
       "      <td> NaN</td>\n",
       "      <td>...</td>\n",
       "      <td>                NaN</td>\n",
       "      <td>                              NaN</td>\n",
       "      <td> NaN</td>\n",
       "      <td> NaN</td>\n",
       "      <td> Yes</td>\n",
       "      <td> Male</td>\n",
       "      <td> 18-29</td>\n",
       "      <td>        $0 - $24,999</td>\n",
       "      <td>                  Bachelor degree</td>\n",
       "      <td> West South Central</td>\n",
       "    </tr>\n",
       "    <tr>\n",
       "      <th>3</th>\n",
       "      <td> 3292765271</td>\n",
       "      <td>  True</td>\n",
       "      <td> False</td>\n",
       "      <td>  True</td>\n",
       "      <td>  True</td>\n",
       "      <td>  True</td>\n",
       "      <td> False</td>\n",
       "      <td> False</td>\n",
       "      <td> False</td>\n",
       "      <td>   1</td>\n",
       "      <td>...</td>\n",
       "      <td>   Unfamiliar (N/A)</td>\n",
       "      <td> I don't understand this question</td>\n",
       "      <td>  No</td>\n",
       "      <td> NaN</td>\n",
       "      <td>  No</td>\n",
       "      <td> Male</td>\n",
       "      <td> 18-29</td>\n",
       "      <td>        $0 - $24,999</td>\n",
       "      <td>               High school degree</td>\n",
       "      <td> West North Central</td>\n",
       "    </tr>\n",
       "    <tr>\n",
       "      <th>4</th>\n",
       "      <td> 3292763116</td>\n",
       "      <td>  True</td>\n",
       "      <td>  True</td>\n",
       "      <td>  True</td>\n",
       "      <td>  True</td>\n",
       "      <td>  True</td>\n",
       "      <td>  True</td>\n",
       "      <td>  True</td>\n",
       "      <td>  True</td>\n",
       "      <td>   5</td>\n",
       "      <td>...</td>\n",
       "      <td>     Very favorably</td>\n",
       "      <td> I don't understand this question</td>\n",
       "      <td>  No</td>\n",
       "      <td> NaN</td>\n",
       "      <td> Yes</td>\n",
       "      <td> Male</td>\n",
       "      <td> 18-29</td>\n",
       "      <td> $100,000 - $149,999</td>\n",
       "      <td> Some college or Associate degree</td>\n",
       "      <td> West North Central</td>\n",
       "    </tr>\n",
       "    <tr>\n",
       "      <th>5</th>\n",
       "      <td> 3292731220</td>\n",
       "      <td>  True</td>\n",
       "      <td>  True</td>\n",
       "      <td>  True</td>\n",
       "      <td>  True</td>\n",
       "      <td>  True</td>\n",
       "      <td>  True</td>\n",
       "      <td>  True</td>\n",
       "      <td>  True</td>\n",
       "      <td>   5</td>\n",
       "      <td>...</td>\n",
       "      <td> Somewhat favorably</td>\n",
       "      <td>                           Greedo</td>\n",
       "      <td> Yes</td>\n",
       "      <td>  No</td>\n",
       "      <td>  No</td>\n",
       "      <td> Male</td>\n",
       "      <td> 18-29</td>\n",
       "      <td> $100,000 - $149,999</td>\n",
       "      <td> Some college or Associate degree</td>\n",
       "      <td> West North Central</td>\n",
       "    </tr>\n",
       "  </tbody>\n",
       "</table>\n",
       "<p>5 rows × 38 columns</p>\n",
       "</div>"
      ],
      "text/plain": [
       "   RespondentID Have you seen any of the 6 films in the Star Wars franchise?  \\\n",
       "1    3292879998                                               True             \n",
       "2    3292879538                                              False             \n",
       "3    3292765271                                               True             \n",
       "4    3292763116                                               True             \n",
       "5    3292731220                                               True             \n",
       "\n",
       "  Do you consider yourself to be a fan of the Star Wars film franchise?  \\\n",
       "1                                               True                      \n",
       "2                                                NaN                      \n",
       "3                                              False                      \n",
       "4                                               True                      \n",
       "5                                               True                      \n",
       "\n",
       "  seen_1 seen_2 seen_3 seen_4 seen_5 seen_6  \\\n",
       "1   True   True   True   True   True   True   \n",
       "2  False  False  False  False  False  False   \n",
       "3   True   True   True  False  False  False   \n",
       "4   True   True   True   True   True   True   \n",
       "5   True   True   True   True   True   True   \n",
       "\n",
       "  Please rank the Star Wars films in order of preference with 1 being your favorite film in the franchise and 6 being your least favorite film.  \\\n",
       "1                                                  3                                                                                              \n",
       "2                                                NaN                                                                                              \n",
       "3                                                  1                                                                                              \n",
       "4                                                  5                                                                                              \n",
       "5                                                  5                                                                                              \n",
       "\n",
       "            ...                    Unnamed: 28  \\\n",
       "1           ...                 Very favorably   \n",
       "2           ...                            NaN   \n",
       "3           ...               Unfamiliar (N/A)   \n",
       "4           ...                 Very favorably   \n",
       "5           ...             Somewhat favorably   \n",
       "\n",
       "        Which character shot first?  \\\n",
       "1  I don't understand this question   \n",
       "2                               NaN   \n",
       "3  I don't understand this question   \n",
       "4  I don't understand this question   \n",
       "5                            Greedo   \n",
       "\n",
       "  Are you familiar with the Expanded Universe?  \\\n",
       "1                                          Yes   \n",
       "2                                          NaN   \n",
       "3                                           No   \n",
       "4                                           No   \n",
       "5                                          Yes   \n",
       "\n",
       "  Do you consider yourself to be a fan of the Expanded Universe?ÂÃ¦  \\\n",
       "1                                                 No                   \n",
       "2                                                NaN                   \n",
       "3                                                NaN                   \n",
       "4                                                NaN                   \n",
       "5                                                 No                   \n",
       "\n",
       "  Do you consider yourself to be a fan of the Star Trek franchise? Gender  \\\n",
       "1                                                 No                 Male   \n",
       "2                                                Yes                 Male   \n",
       "3                                                 No                 Male   \n",
       "4                                                Yes                 Male   \n",
       "5                                                 No                 Male   \n",
       "\n",
       "     Age     Household Income                         Education  \\\n",
       "1  18-29                  NaN                High school degree   \n",
       "2  18-29         $0 - $24,999                   Bachelor degree   \n",
       "3  18-29         $0 - $24,999                High school degree   \n",
       "4  18-29  $100,000 - $149,999  Some college or Associate degree   \n",
       "5  18-29  $100,000 - $149,999  Some college or Associate degree   \n",
       "\n",
       "  Location (Census Region)  \n",
       "1           South Atlantic  \n",
       "2       West South Central  \n",
       "3       West North Central  \n",
       "4       West North Central  \n",
       "5       West North Central  \n",
       "\n",
       "[5 rows x 38 columns]"
      ]
     },
     "execution_count": 7,
     "metadata": {},
     "output_type": "execute_result"
    }
   ],
   "source": [
    "star_wars = star_wars.rename(columns = {\n",
    "    \"Which of the following Star Wars films have you seen? Please select all that apply.\": \"seen_1\",\n",
    "    \"Unnamed: 4\": \"seen_2\",\n",
    "    \"Unnamed: 5\": \"seen_3\",\n",
    "    \"Unnamed: 6\": \"seen_4\",\n",
    "    \"Unnamed: 7\": \"seen_5\",\n",
    "    \"Unnamed: 8\": \"seen_6\"\n",
    "}\n",
    ")\n",
    "star_wars.head()"
   ]
  },
  {
   "cell_type": "code",
   "execution_count": 8,
   "metadata": {
    "collapsed": false
   },
   "outputs": [],
   "source": [
    "star_wars.iloc[:,9:15] = star_wars.iloc[:,9:15].astype(float)"
   ]
  },
  {
   "cell_type": "code",
   "execution_count": 9,
   "metadata": {
    "collapsed": false
   },
   "outputs": [
    {
     "data": {
      "text/plain": [
       "Index(['RespondentID', 'Have you seen any of the 6 films in the Star Wars franchise?', 'Do you consider yourself to be a fan of the Star Wars film franchise?', 'seen_1', 'seen_2', 'seen_3', 'seen_4', 'seen_5', 'seen_6', 'rank_1', 'ranking_2', 'ranking_3', 'ranking_4', 'ranking_5', 'ranking_6', 'Please state whether you view the following characters favorably, unfavorably, or are unfamiliar with him/her.', 'Unnamed: 16', 'Unnamed: 17', 'Unnamed: 18', 'Unnamed: 19', 'Unnamed: 20', 'Unnamed: 21', 'Unnamed: 22', 'Unnamed: 23', 'Unnamed: 24', 'Unnamed: 25', 'Unnamed: 26', 'Unnamed: 27', 'Unnamed: 28', 'Which character shot first?', 'Are you familiar with the Expanded Universe?', 'Do you consider yourself to be a fan of the Expanded Universe?ÂÃ¦', 'Do you consider yourself to be a fan of the Star Trek franchise?', 'Gender', 'Age', 'Household Income', 'Education', 'Location (Census Region)'], dtype='object')"
      ]
     },
     "execution_count": 9,
     "metadata": {},
     "output_type": "execute_result"
    }
   ],
   "source": [
    "star_wars = star_wars.rename(columns={\n",
    "        \"Please rank the Star Wars films in order of preference with 1 being your favorite film in the franchise and 6 being your least favorite film.\": \"rank_1\",\n",
    "        \"Unnamed: 10\": \"ranking_2\",\n",
    "        \"Unnamed: 11\": \"ranking_3\",\n",
    "        \"Unnamed: 12\": \"ranking_4\",\n",
    "        \"Unnamed: 13\": \"ranking_5\",\n",
    "        \"Unnamed: 14\": \"ranking_6\"\n",
    "    })\n",
    "\n",
    "star_wars.columns"
   ]
  },
  {
   "cell_type": "code",
   "execution_count": 10,
   "metadata": {
    "collapsed": false
   },
   "outputs": [
    {
     "data": {
      "image/png": "[encoded data removed]",
      "text/plain": [
       "<matplotlib.figure.Figure at 0x7f729b242a20>"
      ]
     },
     "metadata": {},
     "output_type": "display_data"
    }
   ],
   "source": [
    "import matplotlib.pyplot as plt\n",
    "%matplotlib inline\n",
    "mean = star_wars.iloc[:,9:15].mean()\n",
    "plt.bar(range(6), mean)\n",
    "plt.show()"
   ]
  },
  {
   "cell_type": "markdown",
   "metadata": {
    "collapsed": false
   },
   "source": [
    "We've done some cleanup and renames on several columns. To find the rankings of each of the Star Wars film, we computed the average of ranking for each film. From the bar chart, we can see that the 3 newer Star Wars films have higher rankings (less favorites) than the 3 older ones. "
   ]
  },
  {
   "cell_type": "code",
   "execution_count": 14,
   "metadata": {
    "collapsed": false
   },
   "outputs": [
    {
     "data": {
      "image/png": "[encoded data removed]",
      "text/plain": [
       "<matplotlib.figure.Figure at 0x7f7298df90f0>"
      ]
     },
     "metadata": {},
     "output_type": "display_data"
    }
   ],
   "source": [
    "mean2 = star_wars.iloc[:,3:9].sum()\n",
    "plt.bar(range(6), mean2)\n",
    "plt.show()"
   ]
  },
  {
   "cell_type": "markdown",
   "metadata": {},
   "source": [
    "As we can see from the bar chart, more people have seen the 3 older Star Wars film compared to the 3 newer ones. This makes sense since the rankings for the 3 older films are better."
   ]
  },
  {
   "cell_type": "code",
   "execution_count": 12,
   "metadata": {
    "collapsed": true
   },
   "outputs": [],
   "source": [
    "males = star_wars[star_wars[\"Gender\"] == \"Male\"]\n",
    "females = star_wars[star_wars[\"Gender\"] == \"Female\"]"
   ]
  },
  {
   "cell_type": "code",
   "execution_count": 16,
   "metadata": {
    "collapsed": false,
    "scrolled": true
   },
   "outputs": [
    {
     "data": {
      "image/png": "[encoded data removed]",
      "text/plain": [
       "<matplotlib.figure.Figure at 0x7f7298cf7b38>"
      ]
     },
     "metadata": {},
     "output_type": "display_data"
    },
    {
     "data": {
      "image/png": "[encoded data removed]",
      "text/plain": [
       "<matplotlib.figure.Figure at 0x7f7298ebaef0>"
      ]
     },
     "metadata": {},
     "output_type": "display_data"
    }
   ],
   "source": [
    "plt.bar(range(6), males.iloc[:,9:15].mean())\n",
    "plt.title(\"Males' Rankings\")\n",
    "plt.show()\n",
    "plt.bar(range(6), females.iloc[:,9:15].mean())\n",
    "plt.title(\"Females' Rankings\")\n",
    "plt.show()"
   ]
  },
  {
   "cell_type": "code",
   "execution_count": 15,
   "metadata": {
    "collapsed": false,
    "scrolled": true
   },
   "outputs": [
    {
     "data": {
      "image/png": "[encoded data removed]",
      "text/plain": [
       "<matplotlib.figure.Figure at 0x7f7298ddab70>"
      ]
     },
     "metadata": {},
     "output_type": "display_data"
    },
    {
     "data": {
      "image/png": "[encoded data removed]",
      "text/plain": [
       "<matplotlib.figure.Figure at 0x7f7298bc2eb8>"
      ]
     },
     "metadata": {},
     "output_type": "display_data"
    }
   ],
   "source": [
    "plt.bar(range(6), males.iloc[:,3:9].sum())\n",
    "plt.title(\"Males' viewership\")\n",
    "plt.show()\n",
    "plt.bar(range(6), females.iloc[:,3:9].sum())\n",
    "plt.title(\"Females' viewership\")\n",
    "plt.show()"
   ]
  },
  {
   "cell_type": "markdown",
   "metadata": {},
   "source": [
    "## Males/Females Favorite  And Most Seen Star Wars Films\n",
    "As the charts shown, males' charts make more sense as the 3 older films are seen more and hence, the rankings for them are better. For female, interestingly, the films that have higher viewships have worse rankings, and vice versa. "
   ]
  },
  {
   "cell_type": "code",
   "execution_count": null,
   "metadata": {
    "collapsed": true
   },
   "outputs": [],
   "source": []
  }
 ],
 "metadata": {
  "kernelspec": {
   "display_name": "Python 3",
   "language": "python",
   "name": "python3"
  },
  "language_info": {
   "codemirror_mode": {
    "name": "ipython",
    "version": 3
   },
   "file_extension": ".py",
   "mimetype": "text/x-python",
   "name": "python",
   "nbconvert_exporter": "python",
   "pygments_lexer": "ipython3",
   "version": "3.4.3"
  }
 },
 "nbformat": 4,
 "nbformat_minor": 0
}
